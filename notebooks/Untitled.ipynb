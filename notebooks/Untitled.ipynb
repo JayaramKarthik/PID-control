{
 "cells": [
  {
   "cell_type": "code",
   "execution_count": 1,
   "id": "580bc269",
   "metadata": {},
   "outputs": [],
   "source": [
    "import random\n",
    "import numpy as np\n",
    "import matplotlib.pyplot as plt"
   ]
  },
  {
   "cell_type": "code",
   "execution_count": 2,
   "id": "19687595",
   "metadata": {},
   "outputs": [],
   "source": [
    "class Robot(object):\n",
    "    def __init__(self, length=20.0):\n",
    "        \"\"\"\n",
    "        Creates robot and initializes location/orientation to 0, 0, 0.\n",
    "        \"\"\"\n",
    "        self.x = 0.0\n",
    "        self.y = 0.0\n",
    "        self.orientation = 0.0\n",
    "        self.length = length\n",
    "        self.steering_noise = 0.0\n",
    "        self.distance_noise = 0.0\n",
    "        self.steering_drift = 0.0\n",
    "\n",
    "    def set(self, x, y, orientation):\n",
    "        \"\"\"\n",
    "        Sets a robot coordinate.\n",
    "        \"\"\"\n",
    "        self.x = x\n",
    "        self.y = y\n",
    "        self.orientation = orientation % (2.0 * np.pi)\n",
    "\n",
    "    def set_noise(self, steering_noise, distance_noise):\n",
    "        \"\"\"\n",
    "        Sets the noise parameters.\n",
    "        \"\"\"\n",
    "        # makes it possible to change the noise parameters\n",
    "        # this is often useful in particle filters\n",
    "        self.steering_noise = steering_noise\n",
    "        self.distance_noise = distance_noise\n",
    "\n",
    "    def set_steering_drift(self, drift):\n",
    "        \"\"\"\n",
    "        Sets the systematical steering drift parameter\n",
    "        \"\"\"\n",
    "        self.steering_drift = drift\n",
    "\n",
    "    def move(self, steering, distance, tolerance=0.001, max_steering_angle=np.pi / 4.0):\n",
    "        \"\"\"\n",
    "        steering = front wheel steering angle, limited by max_steering_angle\n",
    "        distance = total distance driven, most be non-negative\n",
    "        \"\"\"\n",
    "        if steering > max_steering_angle:\n",
    "            steering = max_steering_angle\n",
    "        if steering < -max_steering_angle:\n",
    "            steering = -max_steering_angle\n",
    "        if distance < 0.0:\n",
    "            distance = 0.0\n",
    "\n",
    "        # apply noise\n",
    "        steering2 = random.gauss(steering, self.steering_noise)\n",
    "        distance2 = random.gauss(distance, self.distance_noise)\n",
    "\n",
    "        # apply steering drift\n",
    "        steering2 += self.steering_drift\n",
    "\n",
    "        # Execute motion\n",
    "        turn = np.tan(steering2) * distance2 / self.length\n",
    "\n",
    "        if abs(turn) < tolerance:\n",
    "            # approximate by straight line motion\n",
    "            self.x += distance2 * np.cos(self.orientation)\n",
    "            self.y += distance2 * np.sin(self.orientation)\n",
    "            self.orientation = (self.orientation + turn) % (2.0 * np.pi)\n",
    "        else:\n",
    "            # approximate bicycle model for motion\n",
    "            radius = distance2 / turn\n",
    "            cx = self.x - (np.sin(self.orientation) * radius)\n",
    "            cy = self.y + (np.cos(self.orientation) * radius)\n",
    "            self.orientation = (self.orientation + turn) % (2.0 * np.pi)\n",
    "            self.x = cx + (np.sin(self.orientation) * radius)\n",
    "            self.y = cy - (np.cos(self.orientation) * radius)\n",
    "\n",
    "    def __repr__(self):\n",
    "        return '[x=%.5f y=%.5f orient=%.5f]' % (self.x, self.y, self.orientation)"
   ]
  },
  {
   "cell_type": "code",
   "execution_count": 29,
   "id": "a9680fa1",
   "metadata": {},
   "outputs": [],
   "source": [
    "robot = Robot()\n",
    "robot.set(0, 1, 0)\n",
    "\n",
    "def run_p(robot, tau, n=100, speed=1.0):\n",
    "    x_trajectory = []\n",
    "    y_trajectory = []\n",
    "    # TODO: your code here\n",
    "    for i in range(n):\n",
    "        cte = robot.y\n",
    "        steering = -tau*cte\n",
    "        robot.move(steering,speed)\n",
    "        x_trajectory.append(robot.x)\n",
    "        y_trajectory.append(robot.y)\n",
    "        #print(robot.x,robot.y)\n",
    "    return x_trajectory, y_trajectory"
   ]
  },
  {
   "cell_type": "code",
   "execution_count": 19,
   "id": "fb07c73d",
   "metadata": {},
   "outputs": [
    {
     "data": {
      "text/plain": [
       "<matplotlib.legend.Legend at 0x7f3e8ce43730>"
      ]
     },
     "execution_count": 19,
     "metadata": {},
     "output_type": "execute_result"
    },
    {
     "data": {
      "image/png": "[encoded data removed]",
      "text/plain": [
       "<Figure size 576x288 with 1 Axes>"
      ]
     },
     "metadata": {
      "needs_background": "light"
     },
     "output_type": "display_data"
    }
   ],
   "source": [
    "x_trajectory, y_trajectory = run_p(robot, 0.1)\n",
    "n = len(x_trajectory)\n",
    "\n",
    "fig, ax1 = plt.subplots(1, 1, figsize=(8, 4))\n",
    "ax1.plot(x_trajectory, y_trajectory, 'g', label='P controller')\n",
    "ax1.plot(x_trajectory, np.zeros(n), 'r', label='reference')\n",
    "ax1.legend()"
   ]
  },
  {
   "cell_type": "code",
   "execution_count": 36,
   "id": "0bb5dfc3",
   "metadata": {},
   "outputs": [],
   "source": [
    "def run_pd(robot, tau_p, tau_d, n=100, speed=1.0):\n",
    "    x_trajectory = []\n",
    "    y_trajectory = []\n",
    "    # TODO: your code here\n",
    "    cte_p = robot.y\n",
    "    for i in range(n):\n",
    "        cte = robot.y\n",
    "        diff_cte = cte - cte_p\n",
    "        steering = -tau_p*cte - tau_d*diff_cte\n",
    "        robot.move(steering,speed)\n",
    "        x_trajectory.append(robot.x)\n",
    "        y_trajectory.append(robot.y)\n",
    "        cte_p = cte\n",
    "    return x_trajectory, y_trajectory"
   ]
  },
  {
   "cell_type": "code",
   "execution_count": 37,
   "id": "f79a2185",
   "metadata": {},
   "outputs": [
    {
     "data": {
      "text/plain": [
       "[<matplotlib.lines.Line2D at 0x7f3e8c681820>]"
      ]
     },
     "execution_count": 37,
     "metadata": {},
     "output_type": "execute_result"
    },
    {
     "data": {
      "image/png": "[encoded data removed]",
      "text/plain": [
       "<Figure size 576x288 with 1 Axes>"
      ]
     },
     "metadata": {
      "needs_background": "light"
     },
     "output_type": "display_data"
    }
   ],
   "source": [
    "robot.set(0, 1, 0)\n",
    "x_trajectory, y_trajectory = run_pd(robot, 0.2,3.0)\n",
    "n = len(x_trajectory)\n",
    "\n",
    "fig, ax1 = plt.subplots(1, 1, figsize=(8, 4))\n",
    "ax1.plot(x_trajectory, y_trajectory, 'g', label='PD controller')\n",
    "ax1.plot(x_trajectory, np.zeros(n), 'r', label='reference')"
   ]
  },
  {
   "cell_type": "code",
   "execution_count": 38,
   "id": "6e796de0",
   "metadata": {},
   "outputs": [
    {
     "data": {
      "text/plain": [
       "<matplotlib.legend.Legend at 0x7f3e8c704fa0>"
      ]
     },
     "execution_count": 38,
     "metadata": {},
     "output_type": "execute_result"
    },
    {
     "data": {
      "image/png": "[encoded data removed]",
      "text/plain": [
       "<Figure size 576x288 with 1 Axes>"
      ]
     },
     "metadata": {
      "needs_background": "light"
     },
     "output_type": "display_data"
    }
   ],
   "source": [
    "robot.set(0, 1, 0)\n",
    "x_trajectory_p, y_trajectory_p = run_p(robot, 0.1)\n",
    "robot.set(0, 1, 0)\n",
    "x_trajectory_pd, y_trajectory_pd = run_pd(robot, 0.2,3.0)\n",
    "n = len(x_trajectory_p)\n",
    "\n",
    "fig, ax1 = plt.subplots(1, 1, figsize=(8, 4))\n",
    "ax1.plot(x_trajectory_p, y_trajectory_p, 'g', label='P controller')\n",
    "ax1.plot(x_trajectory_pd, y_trajectory_pd, 'b', label='PD controller')\n",
    "ax1.plot(x_trajectory_p, np.zeros(n), 'r', label='reference')\n",
    "ax1.legend()"
   ]
  },
  {
   "cell_type": "code",
   "execution_count": 56,
   "id": "94f5d61e",
   "metadata": {},
   "outputs": [],
   "source": [
    "\n",
    "def run_pid(robot, tau_p, tau_d, tau_i, n=100, speed=1.0):\n",
    "    x_trajectory = []\n",
    "    y_trajectory = []\n",
    "    # TODO: your code here\n",
    "    cte_s = 0\n",
    "    cte_p = robot.y\n",
    "    for i in range(n):\n",
    "        cte = robot.y\n",
    "        diff_cte = cte - cte_p\n",
    "        cte_s += cte\n",
    "        steering = -tau_p*cte - tau_d*diff_cte - tau_i*cte_s\n",
    "        robot.move(steering,speed)\n",
    "        x_trajectory.append(robot.x)\n",
    "        y_trajectory.append(robot.y)\n",
    "        cte_p = cte\n",
    "    return x_trajectory, y_trajectory"
   ]
  },
  {
   "cell_type": "code",
   "execution_count": 57,
   "id": "e43c703b",
   "metadata": {},
   "outputs": [
    {
     "data": {
      "text/plain": [
       "[<matplotlib.lines.Line2D at 0x7f3e8c2a1100>]"
      ]
     },
     "execution_count": 57,
     "metadata": {},
     "output_type": "execute_result"
    },
    {
     "data": {
      "image/png": "[encoded data removed]",
      "text/plain": [
       "<Figure size 576x288 with 1 Axes>"
      ]
     },
     "metadata": {
      "needs_background": "light"
     },
     "output_type": "display_data"
    }
   ],
   "source": [
    "robot.set(0,1,0)\n",
    "x_trajectory, y_trajectory = run_pid(robot,0.2, 3.0, 0.004)\n",
    "n = len(x_trajectory)\n",
    "\n",
    "fig, ax1 = plt.subplots(1, 1, figsize=(8, 4))\n",
    "ax1.plot(x_trajectory, y_trajectory, 'g', label='PID controller')\n",
    "ax1.plot(x_trajectory, np.zeros(n), 'r', label='reference')"
   ]
  },
  {
   "cell_type": "code",
   "execution_count": 3,
   "id": "f6e6bb97",
   "metadata": {},
   "outputs": [],
   "source": [
    "def make_robot():\n",
    "    \"\"\"\n",
    "    Resets the robot back to the initial position and drift.\n",
    "    You'll want to call this after you call `run`.\n",
    "    \"\"\"\n",
    "    robot = Robot()\n",
    "    robot.set(0, 1, 0)\n",
    "    robot.set_steering_drift(10 / 180 * np.pi)\n",
    "    return robot\n",
    "\n",
    "\n",
    "# NOTE: We use params instead of tau_p, tau_d, tau_i\n",
    "def run(robot, params, n=100, speed=1.0):\n",
    "    x_trajectory = []\n",
    "    y_trajectory = []\n",
    "    err = 0\n",
    "    prev_cte = robot.y\n",
    "    int_cte = 0\n",
    "    for i in range(2 * n):\n",
    "        cte = robot.y\n",
    "        diff_cte = cte - prev_cte\n",
    "        int_cte += cte\n",
    "        prev_cte = cte\n",
    "        steer = -params[0] * cte - params[1] * diff_cte - params[2] * int_cte\n",
    "        robot.move(steer, speed)\n",
    "        x_trajectory.append(robot.x)\n",
    "        y_trajectory.append(robot.y)\n",
    "        if i >= n:\n",
    "            err += cte ** 2\n",
    "    return x_trajectory, y_trajectory, err / n"
   ]
  },
  {
   "cell_type": "code",
   "execution_count": 9,
   "id": "7d651383",
   "metadata": {},
   "outputs": [],
   "source": [
    "# Make this tolerance bigger if you are timing out!\n",
    "def twiddle(tol=0.2): \n",
    "    # Don't forget to call `make_robot` before every call of `run`!\n",
    "    p = [0, 0, 0]\n",
    "    dp = [1, 1, 1]\n",
    "    err = 0\n",
    "    robot = make_robot()\n",
    "    x_trajectory, y_trajectory, best_err = run(robot, p)\n",
    "    # TODO: twiddle loop here\n",
    "    it = 0\n",
    "    while sum(dp) > 0.2:\n",
    "        print(\"Iteration {}, best error = {}\".format(it, best_err))\n",
    "        for i in range(len(p)):\n",
    "            p[i] += dp[i]\n",
    "            robot = make_robot()\n",
    "            x_trajectory, y_trajectory, err = run(robot, p)\n",
    "            \n",
    "            if err < best_err:\n",
    "                best_err = err\n",
    "                dp[i] *= 1.1\n",
    "                \n",
    "            else:\n",
    "                p[i] -= 2*dp[i]\n",
    "                robot = make_robot()\n",
    "                x_trajectory, y_trajectory, err = run(robot, p)\n",
    "                \n",
    "                if err < best_err:\n",
    "                    best_err = err\n",
    "                    dp[i] *= 1.1\n",
    "                    \n",
    "                else:\n",
    "                    p[i] += dp[i]\n",
    "                    dp[i] *= 0.9           \n",
    "        \n",
    "        it += 1\n",
    "    return p, best_err"
   ]
  },
  {
   "cell_type": "code",
   "execution_count": 10,
   "id": "a3c96b6e",
   "metadata": {},
   "outputs": [
    {
     "name": "stdout",
     "output_type": "stream",
     "text": [
      "Iteration 0, best error = 8315.955485215645\n",
      "Iteration 1, best error = 0.0434970807256939\n",
      "Iteration 2, best error = 0.03065437362443958\n",
      "Iteration 3, best error = 0.007677320020068962\n",
      "Iteration 4, best error = 0.0032201674271162446\n",
      "Iteration 5, best error = 0.0016645945527960435\n",
      "Iteration 6, best error = 0.0009761080831682494\n",
      "Iteration 7, best error = 0.0006163432367765914\n",
      "Iteration 8, best error = 0.00041102748054356214\n",
      "Iteration 9, best error = 0.00019877374116068796\n",
      "Iteration 10, best error = 1.176902590931792e-06\n",
      "Iteration 11, best error = 7.050884269315375e-07\n",
      "Iteration 12, best error = 1.379736668887161e-12\n",
      "Iteration 13, best error = 1.379736668887161e-12\n",
      "Iteration 14, best error = 1.379736668887161e-12\n",
      "Iteration 15, best error = 1.0756081254419683e-12\n",
      "Iteration 16, best error = 1.0756081254419683e-12\n",
      "Iteration 17, best error = 1.0756081254419683e-12\n",
      "Iteration 18, best error = 8.12857772854578e-13\n",
      "Iteration 19, best error = 8.12857772854578e-13\n",
      "Iteration 20, best error = 8.12857772854578e-13\n",
      "Iteration 21, best error = 2.626274371887853e-13\n",
      "Iteration 22, best error = 2.626274371887853e-13\n",
      "Iteration 23, best error = 2.626274371887853e-13\n",
      "Iteration 24, best error = 2.626274371887853e-13\n",
      "Iteration 25, best error = 2.626274371887853e-13\n",
      "Iteration 26, best error = 2.626274371887853e-13\n",
      "Iteration 27, best error = 3.415464748206219e-14\n",
      "Iteration 28, best error = 2.2146601644375548e-14\n",
      "Iteration 29, best error = 1.1111316141677853e-15\n",
      "Iteration 30, best error = 1.1111316141677853e-15\n",
      "Iteration 31, best error = 1.1111316141677853e-15\n",
      "Iteration 32, best error = 6.486248420974659e-16\n",
      "Iteration 33, best error = 6.486248420974659e-16\n",
      "Iteration 34, best error = 6.486248420974659e-16\n",
      "Iteration 35, best error = 6.486248420974659e-16\n",
      "Iteration 36, best error = 6.486248420974659e-16\n",
      "Iteration 37, best error = 6.486248420974659e-16\n",
      "Iteration 38, best error = 6.486248420974659e-16\n",
      "Iteration 39, best error = 6.486248420974659e-16\n",
      "Iteration 40, best error = 6.486248420974659e-16\n",
      "Iteration 41, best error = 6.486248420974659e-16\n",
      "Iteration 42, best error = 6.486248420974659e-16\n",
      "Iteration 43, best error = 6.486248420974659e-16\n",
      "Iteration 44, best error = 6.486248420974659e-16\n",
      "Iteration 45, best error = 6.486248420974659e-16\n",
      "Iteration 46, best error = 6.486248420974659e-16\n",
      "Iteration 47, best error = 6.486248420974659e-16\n",
      "Iteration 48, best error = 6.486248420974659e-16\n",
      "Iteration 49, best error = 6.486248420974659e-16\n",
      "Iteration 50, best error = 6.486248420974659e-16\n",
      "Final twiddle error = 6.486248420974659e-16\n"
     ]
    }
   ],
   "source": [
    "\n",
    "params, err = twiddle()\n",
    "print(\"Final twiddle error = {}\".format(err))\n",
    "robot = make_robot()\n",
    "x_trajectory, y_trajectory, err = run(robot, params)\n",
    "n = len(x_trajectory)"
   ]
  },
  {
   "cell_type": "code",
   "execution_count": 8,
   "id": "e72a4e2c",
   "metadata": {},
   "outputs": [
    {
     "data": {
      "text/plain": [
       "[<matplotlib.lines.Line2D at 0x7f9738015c70>]"
      ]
     },
     "execution_count": 8,
     "metadata": {},
     "output_type": "execute_result"
    },
    {
     "data": {
      "image/png": "[encoded data removed]",
      "text/plain": [
       "<Figure size 576x576 with 1 Axes>"
      ]
     },
     "metadata": {
      "needs_background": "light"
     },
     "output_type": "display_data"
    }
   ],
   "source": [
    "fig, ax1 = plt.subplots(1, 1, figsize=(8, 8))\n",
    "ax1.plot(x_trajectory, y_trajectory, 'g', label='Twiddle PID controller')\n",
    "ax1.plot(x_trajectory, np.zeros(n), 'r', label='reference')"
   ]
  },
  {
   "cell_type": "code",
   "execution_count": null,
   "id": "4b17c69b",
   "metadata": {},
   "outputs": [],
   "source": []
  }
 ],
 "metadata": {
  "kernelspec": {
   "display_name": "Python 3 (ipykernel)",
   "language": "python",
   "name": "python3"
  },
  "language_info": {
   "codemirror_mode": {
    "name": "ipython",
    "version": 3
   },
   "file_extension": ".py",
   "mimetype": "text/x-python",
   "name": "python",
   "nbconvert_exporter": "python",
   "pygments_lexer": "ipython3",
   "version": "3.8.10"
  }
 },
 "nbformat": 4,
 "nbformat_minor": 5
}
